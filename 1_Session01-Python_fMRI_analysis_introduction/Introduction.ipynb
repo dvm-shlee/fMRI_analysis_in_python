{
 "cells": [
  {
   "cell_type": "markdown",
   "metadata": {},
   "source": [
    "# About this training material.\n",
    "\n",
    "- This training material is designed for self-study to learn fundemental of neuroimaging data analysis using python.\n",
    "- In order to start this material, you need to have jupyter notebook in your system and need to know how to run it.\n",
    "- To do this, there are some platform you can use, which help you to install python, and other fundemental modules for research computing including jupyter notebook.\n",
    "\n",
    "    - https://www.anaconda.com/download/  *<- I will recommend this*\n",
    "    - https://www.enthought.com/product/canopy/\n",
    "    \n",
    "    \n",
    "- Python provides two different version, 2 and 3. In this material, we are going to use python 2.\n",
    "    - For your information, all modules we will handle are also compatible with python 3.\n",
    "    - And assuming most of the syntax will be compatible for Python 3.\n",
    "    - so, if you want to start python 3, it's solely up to you. (check the link below)\n",
    "    - https://learntocodewith.me/programming/python/python-2-vs-python-3/\n",
    "        - *But I will recommend you to start with python 2 for this material, and use python 3 when you are doing your own project.*\n",
    "\n",
    "\n",
    "- This material will not cover the installation and configuration of python environment.\n",
    "    - **Please try to search yourself to prepare your system, once you are open this jupyter notebook environment, you are ready to start research computing with python.**"
   ]
  },
  {
   "cell_type": "markdown",
   "metadata": {},
   "source": [
    "## Things to know before you start"
   ]
  },
  {
   "cell_type": "markdown",
   "metadata": {},
   "source": [
    "### Commonly used terms\n",
    "\n",
    "#### Understanding the key terms will help you understand how Python works. Let's take a quick look at Python and a brief glossary of object-oriented programming languages.\n",
    "\n",
    "- **module**: a object with arbitrarily named that can be bound and referenced.\n",
    "    - allows to group and categorize the code\n",
    "    - can be a class, file and folder\n",
    "\n",
    "\n",
    "- **object**: Python’s abstraction for data. All data in a Python program is represented by objects or by relations between objects.\n",
    "    - composed with properties(or attributes) and methods.\n",
    "- **class**: object constructor (template for creating object)\n",
    "- **instance**: a concrete occurrence of any object, existing usually during the runtime of a computer program\n",
    "    - simply, instance = class(argument)\n",
    "    \n",
    "    \n",
    "- **function**: block of the code that called by its name, may or may not return data\n",
    "    - does not deal with class and its instance concept (independent)\n",
    "- **method**: same as function but\n",
    "    - associated to an object (dependent)\n",
    "- **property**: an attribute of a class which results from binding a setter, and/or getter, and/or deleter to an attribute\n",
    "\n",
    "\n"
   ]
  },
  {
   "cell_type": "markdown",
   "metadata": {},
   "source": [
    "### List of Modules you need to prepare for this training course\n",
    "\n",
    "#### Standard modules: installed with python\n",
    "\n",
    "- **os** : Operating system interfaces\n",
    "- **sys** : System-specific parameters and functions\n",
    "- **re** : Regular expression"
   ]
  },
  {
   "cell_type": "markdown",
   "metadata": {},
   "source": [
    "#### Modules for research computing: installed with anaconda\n",
    "- **numpy** : fundamental package for scientific computing with Python\n",
    "- **scipy** : a Python-based ecosystem of open-source software for mathematics, science, and engineering.\n",
    "- **pandas** : easy-to-use data structures and data analysis tools for the Python programming language\n",
    "- **matplotlib** : a Python 2D plotting library which produces publication quality figures in a variety of hardcopy formats and interactive environments across platforms.\n",
    "- **jupyter notebook** : an open-source web application that allows you to create and share documents that contain live code, equations, visualizations and narrative text.\n",
    "- **sklearn** : a free software machine learning library for the Python programming language."
   ]
  },
  {
   "cell_type": "markdown",
   "metadata": {},
   "source": [
    "#### Modules for neuroimage data handling: need to install separately\n",
    "- **nibabel** : read / write access to some common neuroimaging file formats\n",
    "- **skimage** : a collection of algorithms for image processing."
   ]
  },
  {
   "cell_type": "markdown",
   "metadata": {},
   "source": [
    "### Everyting you need to know about Object-Oriented Programing (OOP)\n",
    "\n",
    "\n",
    "- In python, almost everything is object, which means it has properties and methods.\n",
    "- Using objects as the building block of the code\n",
    "    - **example**: *if you need to use a complex code block multiple time, you can create an instance to handle it instead of coding it*\n",
    "\n",
    "<img src=\"images/figure_1-1.png\" alt=\"Drawing\" style=\"width: 600px;\"/>"
   ]
  },
  {
   "cell_type": "markdown",
   "metadata": {},
   "source": [
    "#### How can we import the modules and use it's functions.\n",
    "- Check below syntax how the modules can be imported.\n",
    "    - a module can be imported with `import` method.\n",
    "    - with `as` you can rename it into any name for your own convenience.\n",
    "    - with `from` you can import only specific module from parents module."
   ]
  },
  {
   "cell_type": "code",
   "execution_count": 1,
   "metadata": {},
   "outputs": [],
   "source": [
    "import os\n",
    "import numpy as np\n",
    "from pandas import DataFrame as DF"
   ]
  },
  {
   "cell_type": "markdown",
   "metadata": {},
   "source": [
    "Above code will create three instances 'os, np, and DF'\n",
    "- *os* and *np* are the modules (the collection of classes, methods and properties)\n",
    "- In the other hands, *DF* is the class instance\n",
    "\n",
    "In order to call interior classes, methods, or properties, python uses `.` operator as below\n",
    "```\n",
    "> [module].[method](arguments)\n",
    "> [module].[class or submodule].[method](arguments)\n",
    "> [modyle].[class].[property]\n",
    "```\n",
    "\n",
    "Even you can do below\n",
    "```\n",
    "> [module].[method](arguments).[property]\n",
    "> [module].[method](arguments).[method](arguments)\n",
    "```\n",
    "\n",
    "Let's see some examples...\n",
    "- First, we will see the example of `> [module].[method](arguments)`"
   ]
  },
  {
   "cell_type": "code",
   "execution_count": 2,
   "metadata": {},
   "outputs": [
    {
     "data": {
      "text/plain": [
       "['Introduction.ipynb', '.DS_Store', 'images', '.ipynb_checkpoints']"
      ]
     },
     "execution_count": 2,
     "metadata": {},
     "output_type": "execute_result"
    }
   ],
   "source": [
    "# check all file in current folder\n",
    "os.listdir('.')"
   ]
  },
  {
   "cell_type": "markdown",
   "metadata": {},
   "source": [
    "- Since almost everything in python is object, the returned value is the object.\n",
    "- Above case, the returned value is list object that contains multiple string objects.\n",
    "- So let's create `instance` of this object"
   ]
  },
  {
   "cell_type": "code",
   "execution_count": 3,
   "metadata": {},
   "outputs": [],
   "source": [
    "file_inside_current_working_folder = os.listdir('.')"
   ]
  },
  {
   "cell_type": "code",
   "execution_count": 4,
   "metadata": {},
   "outputs": [
    {
     "data": {
      "text/plain": [
       "['Introduction.ipynb', '.DS_Store', 'images', '.ipynb_checkpoints']"
      ]
     },
     "execution_count": 4,
     "metadata": {},
     "output_type": "execute_result"
    }
   ],
   "source": [
    "file_inside_current_working_folder"
   ]
  },
  {
   "cell_type": "markdown",
   "metadata": {},
   "source": [
    "- Now, let's check other case, `> [module].[submodule].[method](arguments)`\n",
    "    - Below code will use the submodule `path` that contains useful methods to handle path.\n",
    "    - The method `abspath` in `os.path` module returns absolute path of given relate path"
   ]
  },
  {
   "cell_type": "code",
   "execution_count": 7,
   "metadata": {},
   "outputs": [
    {
     "data": {
      "text/plain": [
       "'/Users/shlee419/WorkingFolder/04_TeachingMaterials/Session01-Python_fMRI_analysis_introduction'"
      ]
     },
     "execution_count": 7,
     "metadata": {},
     "output_type": "execute_result"
    }
   ],
   "source": [
    "os.path.abspath('.')"
   ]
  },
  {
   "cell_type": "markdown",
   "metadata": {},
   "source": [
    "- As you can see, the return value is string object.\n",
    "    - String object provides several methods to handle string\n",
    "    - Now I will show the example of `> [module].[method](arguments).[method](arguments)`\n",
    "    - The method `split` in `string` object return the list of string after splitting with certain string value that given as arguments"
   ]
  },
  {
   "cell_type": "code",
   "execution_count": 10,
   "metadata": {},
   "outputs": [
    {
     "data": {
      "text/plain": [
       "['',\n",
       " 'Users',\n",
       " 'shlee419',\n",
       " 'WorkingFolder',\n",
       " '04_TeachingMaterials',\n",
       " 'Session01-Python_fMRI_analysis_introduction']"
      ]
     },
     "execution_count": 10,
     "metadata": {},
     "output_type": "execute_result"
    }
   ],
   "source": [
    "os.path.abspath('.').split('/')"
   ]
  },
  {
   "cell_type": "markdown",
   "metadata": {},
   "source": [
    "- Above code can be written as below"
   ]
  },
  {
   "cell_type": "code",
   "execution_count": 11,
   "metadata": {},
   "outputs": [
    {
     "name": "stdout",
     "output_type": "stream",
     "text": [
      "['', 'Users', 'shlee419', 'WorkingFolder', '04_TeachingMaterials', 'Session01-Python_fMRI_analysis_introduction']\n"
     ]
    }
   ],
   "source": [
    "abspath = os.path.abspath('.')\n",
    "splitted_abspath = abspath.split('/')\n",
    "\n",
    "print(splitted_abspath)"
   ]
  },
  {
   "cell_type": "markdown",
   "metadata": {},
   "source": [
    "### Hello world!\n",
    "\n",
    "- Now let's start your first coding legacy way.\n",
    "- print() is standard function to print out given string input"
   ]
  },
  {
   "cell_type": "code",
   "execution_count": 23,
   "metadata": {
    "scrolled": true
   },
   "outputs": [
    {
     "name": "stdout",
     "output_type": "stream",
     "text": [
      "Hellow python world\n"
     ]
    }
   ],
   "source": [
    "sample_text = 'Hellow python world'\n",
    "print(sample_text)"
   ]
  },
  {
   "cell_type": "markdown",
   "metadata": {},
   "source": [
    "- Above code create instance of `string` object, and print it.\n",
    "- Now, let's check the data type of the object you created"
   ]
  },
  {
   "cell_type": "code",
   "execution_count": 24,
   "metadata": {},
   "outputs": [
    {
     "data": {
      "text/plain": [
       "str"
      ]
     },
     "execution_count": 24,
     "metadata": {},
     "output_type": "execute_result"
    }
   ],
   "source": [
    "# below function will return type of the object\n",
    "type(sample_text)"
   ]
  },
  {
   "cell_type": "markdown",
   "metadata": {},
   "source": [
    "- In python, base class of `string` object is defined as `str`.\n",
    "    - Other available standard data types are as below\n",
    "        - int : integer\n",
    "        - float : float number\n",
    "        - list\n",
    "        - tuple\n",
    "        - dic\n",
    "    - For more detail, please read the python official documentation: \n",
    "        - python2 (https://docs.python.org/2/library/stdtypes.html)\n",
    "        - python3 (https://docs.python.org/3/library/stdtypes.html)\n",
    "\n",
    "- Now let's check what properties and methods are available for this string object"
   ]
  },
  {
   "cell_type": "code",
   "execution_count": 31,
   "metadata": {},
   "outputs": [
    {
     "data": {
      "text/plain": [
       "['__add__',\n",
       " '__class__',\n",
       " '__contains__',\n",
       " '__delattr__',\n",
       " '__doc__',\n",
       " '__eq__',\n",
       " '__format__',\n",
       " '__ge__',\n",
       " '__getattribute__',\n",
       " '__getitem__',\n",
       " '__getnewargs__',\n",
       " '__getslice__',\n",
       " '__gt__',\n",
       " '__hash__',\n",
       " '__init__',\n",
       " '__le__',\n",
       " '__len__',\n",
       " '__lt__',\n",
       " '__mod__',\n",
       " '__mul__',\n",
       " '__ne__',\n",
       " '__new__',\n",
       " '__reduce__',\n",
       " '__reduce_ex__',\n",
       " '__repr__',\n",
       " '__rmod__',\n",
       " '__rmul__',\n",
       " '__setattr__',\n",
       " '__sizeof__',\n",
       " '__str__',\n",
       " '__subclasshook__',\n",
       " '_formatter_field_name_split',\n",
       " '_formatter_parser',\n",
       " 'capitalize',\n",
       " 'center',\n",
       " 'count',\n",
       " 'decode',\n",
       " 'encode',\n",
       " 'endswith',\n",
       " 'expandtabs',\n",
       " 'find',\n",
       " 'format',\n",
       " 'index',\n",
       " 'isalnum',\n",
       " 'isalpha',\n",
       " 'isdigit',\n",
       " 'islower',\n",
       " 'isspace',\n",
       " 'istitle',\n",
       " 'isupper',\n",
       " 'join',\n",
       " 'ljust',\n",
       " 'lower',\n",
       " 'lstrip',\n",
       " 'partition',\n",
       " 'replace',\n",
       " 'rfind',\n",
       " 'rindex',\n",
       " 'rjust',\n",
       " 'rpartition',\n",
       " 'rsplit',\n",
       " 'rstrip',\n",
       " 'split',\n",
       " 'splitlines',\n",
       " 'startswith',\n",
       " 'strip',\n",
       " 'swapcase',\n",
       " 'title',\n",
       " 'translate',\n",
       " 'upper',\n",
       " 'zfill']"
      ]
     },
     "execution_count": 31,
     "metadata": {},
     "output_type": "execute_result"
    }
   ],
   "source": [
    "# below function print out all available properties and methods in the object\n",
    "dir(sample_text)"
   ]
  },
  {
   "cell_type": "markdown",
   "metadata": {},
   "source": [
    "- Since the object you create is `str` object, the return value of `dir(str)` is same as above"
   ]
  },
  {
   "cell_type": "code",
   "execution_count": 33,
   "metadata": {},
   "outputs": [
    {
     "data": {
      "text/plain": [
       "['__add__',\n",
       " '__class__',\n",
       " '__contains__',\n",
       " '__delattr__',\n",
       " '__doc__',\n",
       " '__eq__',\n",
       " '__format__',\n",
       " '__ge__',\n",
       " '__getattribute__',\n",
       " '__getitem__',\n",
       " '__getnewargs__',\n",
       " '__getslice__',\n",
       " '__gt__',\n",
       " '__hash__',\n",
       " '__init__',\n",
       " '__le__',\n",
       " '__len__',\n",
       " '__lt__',\n",
       " '__mod__',\n",
       " '__mul__',\n",
       " '__ne__',\n",
       " '__new__',\n",
       " '__reduce__',\n",
       " '__reduce_ex__',\n",
       " '__repr__',\n",
       " '__rmod__',\n",
       " '__rmul__',\n",
       " '__setattr__',\n",
       " '__sizeof__',\n",
       " '__str__',\n",
       " '__subclasshook__',\n",
       " '_formatter_field_name_split',\n",
       " '_formatter_parser',\n",
       " 'capitalize',\n",
       " 'center',\n",
       " 'count',\n",
       " 'decode',\n",
       " 'encode',\n",
       " 'endswith',\n",
       " 'expandtabs',\n",
       " 'find',\n",
       " 'format',\n",
       " 'index',\n",
       " 'isalnum',\n",
       " 'isalpha',\n",
       " 'isdigit',\n",
       " 'islower',\n",
       " 'isspace',\n",
       " 'istitle',\n",
       " 'isupper',\n",
       " 'join',\n",
       " 'ljust',\n",
       " 'lower',\n",
       " 'lstrip',\n",
       " 'partition',\n",
       " 'replace',\n",
       " 'rfind',\n",
       " 'rindex',\n",
       " 'rjust',\n",
       " 'rpartition',\n",
       " 'rsplit',\n",
       " 'rstrip',\n",
       " 'split',\n",
       " 'splitlines',\n",
       " 'startswith',\n",
       " 'strip',\n",
       " 'swapcase',\n",
       " 'title',\n",
       " 'translate',\n",
       " 'upper',\n",
       " 'zfill']"
      ]
     },
     "execution_count": 33,
     "metadata": {},
     "output_type": "execute_result"
    }
   ],
   "source": [
    "dir(str)"
   ]
  },
  {
   "cell_type": "code",
   "execution_count": null,
   "metadata": {},
   "outputs": [],
   "source": []
  },
  {
   "cell_type": "markdown",
   "metadata": {},
   "source": [
    "- But still we don't have information for each methods and properties\n",
    "- First, we need to know which is method and which is properties"
   ]
  },
  {
   "cell_type": "code",
   "execution_count": 40,
   "metadata": {},
   "outputs": [
    {
     "data": {
      "text/plain": [
       "<method-wrapper '__len__' of str object at 0x11a454b58>"
      ]
     },
     "execution_count": 40,
     "metadata": {},
     "output_type": "execute_result"
    }
   ],
   "source": [
    "sample_text.__len__"
   ]
  },
  {
   "cell_type": "markdown",
   "metadata": {},
   "source": [
    "- If the returned value is encapculated with `<>`, it is a method."
   ]
  },
  {
   "cell_type": "code",
   "execution_count": 42,
   "metadata": {},
   "outputs": [
    {
     "data": {
      "text/plain": [
       "\"str(object='') -> string\\n\\nReturn a nice string representation of the object.\\nIf the argument is a string, the return value is the same object.\""
      ]
     },
     "execution_count": 42,
     "metadata": {},
     "output_type": "execute_result"
    }
   ],
   "source": [
    "sample_text.__doc__"
   ]
  },
  {
   "cell_type": "markdown",
   "metadata": {},
   "source": [
    "- If the returned value is just another object, it is property of the class.\n",
    "    - the `__doc__` property contains the document string of the class. Because `sample_text` is `string` object, it shows document string of string class.\n",
    "\n",
    "- Now let's find the document string of the method we interested in.\n",
    "    - Assume you are insterested in `str.title()` method"
   ]
  },
  {
   "cell_type": "code",
   "execution_count": 45,
   "metadata": {},
   "outputs": [
    {
     "name": "stdout",
     "output_type": "stream",
     "text": [
      "Help on built-in function title:\n",
      "\n",
      "title(...)\n",
      "    S.title() -> string\n",
      "    \n",
      "    Return a titlecased version of S, i.e. words start with uppercase\n",
      "    characters, all remaining cased characters have lowercase.\n",
      "\n"
     ]
    }
   ],
   "source": [
    "help(sample_text.title)"
   ]
  },
  {
   "cell_type": "code",
   "execution_count": 49,
   "metadata": {},
   "outputs": [
    {
     "name": "stdout",
     "output_type": "stream",
     "text": [
      "S.title() -> string\n",
      "\n",
      "Return a titlecased version of S, i.e. words start with uppercase\n",
      "characters, all remaining cased characters have lowercase.\n"
     ]
    }
   ],
   "source": [
    "# which is same as...\n",
    "print(sample_text.title.__doc__)"
   ]
  },
  {
   "cell_type": "code",
   "execution_count": 50,
   "metadata": {},
   "outputs": [
    {
     "data": {
      "text/plain": [
       "'Hellow Python World'"
      ]
     },
     "execution_count": 50,
     "metadata": {},
     "output_type": "execute_result"
    }
   ],
   "source": [
    "sample_text.title()"
   ]
  },
  {
   "cell_type": "markdown",
   "metadata": {},
   "source": [
    "- As you can see above code, to call function, you have to put `()` at the end of the method, while properties is used without of it.\n",
    "    - The methods start with `_` are the internal properties and methods of the object.\n",
    "    - For example, the property 'class' of this object is saved at `__class__` attributes. You can call it without `()`."
   ]
  },
  {
   "cell_type": "code",
   "execution_count": 52,
   "metadata": {},
   "outputs": [
    {
     "data": {
      "text/plain": [
       "str"
      ]
     },
     "execution_count": 52,
     "metadata": {},
     "output_type": "execute_result"
    }
   ],
   "source": [
    "sample_text.__class__"
   ]
  },
  {
   "cell_type": "markdown",
   "metadata": {},
   "source": [
    "#### Quiz:\n",
    "1. using replace function, replace 'Hellow' to 'Hello'.\n",
    "2. using split the result into 3 string object, and assign it to `sample_list` object.\n",
    "3. using join method, try to join 3 string object into one sring object same as `sample_text`"
   ]
  },
  {
   "cell_type": "code",
   "execution_count": null,
   "metadata": {},
   "outputs": [],
   "source": []
  },
  {
   "cell_type": "markdown",
   "metadata": {},
   "source": [
    "### Python basic syntax\n",
    "\n",
    "#### Basic datatype in Python\n",
    "- Let's quickly see what the basic Python data types look like."
   ]
  },
  {
   "cell_type": "code",
   "execution_count": null,
   "metadata": {},
   "outputs": [],
   "source": [
    "a = 1\n",
    "type(a)"
   ]
  },
  {
   "cell_type": "code",
   "execution_count": null,
   "metadata": {},
   "outputs": [],
   "source": [
    "a = 1.0\n",
    "type(a)"
   ]
  },
  {
   "cell_type": "code",
   "execution_count": null,
   "metadata": {},
   "outputs": [],
   "source": [
    "a = 'abcd'\n",
    "type(a)"
   ]
  },
  {
   "cell_type": "code",
   "execution_count": null,
   "metadata": {},
   "outputs": [],
   "source": [
    "a = [1, 2, 3]\n",
    "type(a)"
   ]
  },
  {
   "cell_type": "code",
   "execution_count": null,
   "metadata": {},
   "outputs": [],
   "source": [
    "a = (1, 2, 3)\n",
    "type(a)"
   ]
  },
  {
   "cell_type": "code",
   "execution_count": null,
   "metadata": {},
   "outputs": [],
   "source": [
    "a = {1:'abc', 2:'dcf', 3:123}\n",
    "type(a)"
   ]
  },
  {
   "cell_type": "markdown",
   "metadata": {},
   "source": [
    "#### Iterable\n",
    "- There is important property called `iterable` in certain datatype, which is make your life easy.\n",
    "    - It means that you can step through (i.e. iterate) the object as a collection.\n",
    "    - Simply, you can use indexging to pick the component in the object, and also you can use loop to perform step wise operation.\n",
    "- Below, we will learn how to check if the object (or instance) is iterable or not"
   ]
  },
  {
   "cell_type": "code",
   "execution_count": 53,
   "metadata": {},
   "outputs": [],
   "source": [
    "import collections"
   ]
  },
  {
   "cell_type": "code",
   "execution_count": 54,
   "metadata": {},
   "outputs": [
    {
     "data": {
      "text/plain": [
       "False"
      ]
     },
     "execution_count": 54,
     "metadata": {},
     "output_type": "execute_result"
    }
   ],
   "source": [
    "a = 1\n",
    "isinstance(a, collections.Iterable)"
   ]
  },
  {
   "cell_type": "code",
   "execution_count": 55,
   "metadata": {},
   "outputs": [
    {
     "data": {
      "text/plain": [
       "True"
      ]
     },
     "execution_count": 55,
     "metadata": {},
     "output_type": "execute_result"
    }
   ],
   "source": [
    "a = 'abcd'\n",
    "isinstance(a, collections.Iterable)"
   ]
  },
  {
   "cell_type": "markdown",
   "metadata": {},
   "source": [
    "#### Quiz:\n",
    "- Check if `list`, `tuple`, and `dictionary` object are iterable or not."
   ]
  },
  {
   "cell_type": "code",
   "execution_count": null,
   "metadata": {},
   "outputs": [],
   "source": []
  },
  {
   "cell_type": "markdown",
   "metadata": {},
   "source": [
    "#### If statements\n",
    "- The conditional expression.\n",
    "- With comparison operator, you can design your own logic.\n",
    "    - https://www.tutorialspoint.com/python/python_basic_operators.htm"
   ]
  },
  {
   "cell_type": "code",
   "execution_count": 76,
   "metadata": {},
   "outputs": [],
   "source": [
    "a = 1  # assign the value into object"
   ]
  },
  {
   "cell_type": "code",
   "execution_count": 77,
   "metadata": {},
   "outputs": [
    {
     "data": {
      "text/plain": [
       "True"
      ]
     },
     "execution_count": 77,
     "metadata": {},
     "output_type": "execute_result"
    }
   ],
   "source": [
    "a == 1  # conditional expression"
   ]
  },
  {
   "cell_type": "code",
   "execution_count": 78,
   "metadata": {},
   "outputs": [
    {
     "name": "stdout",
     "output_type": "stream",
     "text": [
      "1\n"
     ]
    }
   ],
   "source": [
    "if a == 1:\n",
    "    print(a)"
   ]
  },
  {
   "cell_type": "code",
   "execution_count": 79,
   "metadata": {},
   "outputs": [
    {
     "name": "stdout",
     "output_type": "stream",
     "text": [
      "It's 1!\n"
     ]
    }
   ],
   "source": [
    "if a != 1:\n",
    "    print(a)\n",
    "else:\n",
    "    print(\"It's {}!\".format(a)) # Please remember this method for future."
   ]
  },
  {
   "cell_type": "code",
   "execution_count": 80,
   "metadata": {},
   "outputs": [
    {
     "data": {
      "text/plain": [
       "False"
      ]
     },
     "execution_count": 80,
     "metadata": {},
     "output_type": "execute_result"
    }
   ],
   "source": [
    "isinstance(a, collections.Iterable)"
   ]
  },
  {
   "cell_type": "code",
   "execution_count": 81,
   "metadata": {},
   "outputs": [
    {
     "name": "stdout",
     "output_type": "stream",
     "text": [
      "a is not iterable\n"
     ]
    }
   ],
   "source": [
    "if isinstance(a, collections.Iterable):\n",
    "    print('a is iterable')\n",
    "else:\n",
    "    print('a is not iterable')"
   ]
  },
  {
   "cell_type": "markdown",
   "metadata": {},
   "source": [
    "#### Loop function\n",
    "- In python, there is two loop function `for` and `while`.\n",
    "    - `for` can perform step wise loop while parsing the component from the iterable object.\n",
    "    - `while` can perform loop until the given condition is satisfied."
   ]
  },
  {
   "cell_type": "code",
   "execution_count": null,
   "metadata": {},
   "outputs": [],
   "source": [
    "range(10)"
   ]
  },
  {
   "cell_type": "code",
   "execution_count": null,
   "metadata": {},
   "outputs": [],
   "source": [
    "for i in range(10):\n",
    "    print(i)"
   ]
  },
  {
   "cell_type": "code",
   "execution_count": 56,
   "metadata": {},
   "outputs": [
    {
     "name": "stdout",
     "output_type": "stream",
     "text": [
      "H\n",
      "He\n",
      "Hel\n",
      "Hell\n",
      "Hello\n",
      "Hello \n",
      "Hello P\n",
      "Hello Py\n",
      "Hello Pyt\n",
      "Hello Pyth\n",
      "Hello Pytho\n",
      "Hello Python\n",
      "Hello Python \n",
      "Hello Python W\n",
      "Hello Python Wo\n",
      "Hello Python Wor\n",
      "Hello Python Worl\n",
      "Hello Python World\n"
     ]
    }
   ],
   "source": [
    "# Example of for loop using string object\n",
    "sample_text = 'Hello Python World'\n",
    "\n",
    "output = ''\n",
    "for string in sample_text:\n",
    "    output += string\n",
    "    print(output)"
   ]
  },
  {
   "cell_type": "markdown",
   "metadata": {},
   "source": [
    "- As above, if you iterate `string` object, it will return a character in order each time.\n",
    "- Instead iterate the iterable object itself, you can also use index of it's components.\n",
    "    - using `[i]`, you can call the i_th component in the object if the object is iterable. \n",
    "- `len` return how many component can be iterable in the object."
   ]
  },
  {
   "cell_type": "code",
   "execution_count": 65,
   "metadata": {},
   "outputs": [
    {
     "data": {
      "text/plain": [
       "18"
      ]
     },
     "execution_count": 65,
     "metadata": {},
     "output_type": "execute_result"
    }
   ],
   "source": [
    "# Let's use indexing instead of direct for loop parsing method\n",
    "len(sample_text)"
   ]
  },
  {
   "cell_type": "code",
   "execution_count": 66,
   "metadata": {},
   "outputs": [
    {
     "data": {
      "text/plain": [
       "'H'"
      ]
     },
     "execution_count": 66,
     "metadata": {},
     "output_type": "execute_result"
    }
   ],
   "source": [
    "sample_text[0] # python index always start from 0 and end with n-1"
   ]
  },
  {
   "cell_type": "code",
   "execution_count": 67,
   "metadata": {},
   "outputs": [
    {
     "data": {
      "text/plain": [
       "'d'"
      ]
     },
     "execution_count": 67,
     "metadata": {},
     "output_type": "execute_result"
    }
   ],
   "source": [
    "sample_text[len(sample_text) - 1]"
   ]
  },
  {
   "cell_type": "markdown",
   "metadata": {},
   "source": [
    "- `range()` is useful function to create serial of integer to use as index."
   ]
  },
  {
   "cell_type": "code",
   "execution_count": 68,
   "metadata": {},
   "outputs": [
    {
     "data": {
      "text/plain": [
       "[0, 1, 2, 3, 4, 5, 6, 7, 8, 9]"
      ]
     },
     "execution_count": 68,
     "metadata": {},
     "output_type": "execute_result"
    }
   ],
   "source": [
    "range(10)"
   ]
  },
  {
   "cell_type": "markdown",
   "metadata": {},
   "source": [
    "- The string object can use `+` operation to concatenate with the other string object\n",
    "- When you perform the loop, by giving the empty object with certain data type, you can create modified object as below."
   ]
  },
  {
   "cell_type": "code",
   "execution_count": 69,
   "metadata": {},
   "outputs": [
    {
     "name": "stdout",
     "output_type": "stream",
     "text": [
      "H\n",
      "He\n",
      "Hel\n",
      "Hell\n",
      "Hello\n",
      "Hello \n",
      "Hello P\n",
      "Hello Py\n",
      "Hello Pyt\n",
      "Hello Pyth\n",
      "Hello Pytho\n",
      "Hello Python\n",
      "Hello Python \n",
      "Hello Python W\n",
      "Hello Python Wo\n",
      "Hello Python Wor\n",
      "Hello Python Worl\n",
      "Hello Python World\n"
     ]
    }
   ],
   "source": [
    "output = ''\n",
    "for i in range(len(sample_text)):\n",
    "    output += sample_text[i]\n",
    "    print(output)"
   ]
  },
  {
   "cell_type": "code",
   "execution_count": 75,
   "metadata": {},
   "outputs": [
    {
     "name": "stdout",
     "output_type": "stream",
     "text": [
      "Hell4 Python World\n"
     ]
    }
   ],
   "source": [
    "# Other example to modify the data.\n",
    "output = ''\n",
    "for i in range(len(sample_text)):\n",
    "    if i == 4:\n",
    "        output += str(4)\n",
    "    else:\n",
    "        output += sample_text[i]\n",
    "print(output)"
   ]
  },
  {
   "cell_type": "markdown",
   "metadata": {},
   "source": [
    "- Below is a simple example of `while` loop. It is typically used for performing infinite loop for running program at background."
   ]
  },
  {
   "cell_type": "code",
   "execution_count": 74,
   "metadata": {},
   "outputs": [
    {
     "name": "stdout",
     "output_type": "stream",
     "text": [
      "1\n",
      "2\n",
      "3\n",
      "4\n",
      "5\n",
      "6\n",
      "7\n",
      "8\n",
      "9\n",
      "10\n"
     ]
    }
   ],
   "source": [
    "# Example of while loop\n",
    "i = 0\n",
    "while i < 10:\n",
    "    i = i + 1\n",
    "    print(i)"
   ]
  },
  {
   "cell_type": "markdown",
   "metadata": {},
   "source": [
    "#### Quiz:\n",
    "- Create a list object that contains integer object, and print its component using `for loop`\n",
    "- Search how to perform `for loop` on dictionary object."
   ]
  },
  {
   "cell_type": "markdown",
   "metadata": {},
   "source": [
    "#### Define custom function\n",
    "- A function is a block of code which only runs when it is called.\n",
    "- You can pass data, known as parameters, into a function.\n",
    "- A function can return data as a result.\n",
    "- Function can be defined as below\n"
   ]
  },
  {
   "cell_type": "code",
   "execution_count": 82,
   "metadata": {},
   "outputs": [],
   "source": [
    "def sample_function_1st(*args, **kwargs):\n",
    "    print('- input arguments: {}'.format(args))\n",
    "    print('- input keyword arguments: {}'.format(kwargs))\n",
    "    print('** The return value shows the number of input arguments **')\n",
    "    return len(args) + len(kwargs)"
   ]
  },
  {
   "cell_type": "code",
   "execution_count": 83,
   "metadata": {},
   "outputs": [
    {
     "name": "stdout",
     "output_type": "stream",
     "text": [
      "- input arguments: ('jhg', 'hjgh')\n",
      "- input keyword arguments: {'test': 'tes', 'asdas': 'aad'}\n",
      "** The return value shows the number of input arguments **\n"
     ]
    },
    {
     "data": {
      "text/plain": [
       "4"
      ]
     },
     "execution_count": 83,
     "metadata": {},
     "output_type": "execute_result"
    }
   ],
   "source": [
    "sample_function_1st('jhg', 'hjgh', test='tes', asdas='aad')"
   ]
  },
  {
   "cell_type": "markdown",
   "metadata": {},
   "source": [
    "#### Combine with for loop function"
   ]
  },
  {
   "cell_type": "code",
   "execution_count": 84,
   "metadata": {},
   "outputs": [],
   "source": [
    "def sample_function_2nd(x, a, b):\n",
    "    # This object will return ax+b\n",
    "    output = [] # define empty list object\n",
    "    for i in x:\n",
    "        output.append(a*i + b)\n",
    "    return output"
   ]
  },
  {
   "cell_type": "code",
   "execution_count": 85,
   "metadata": {},
   "outputs": [
    {
     "data": {
      "text/plain": [
       "[5, 7, 9, 11, 13, 15, 17, 19, 21, 23, 25]"
      ]
     },
     "execution_count": 85,
     "metadata": {},
     "output_type": "execute_result"
    }
   ],
   "source": [
    "sample_function_2nd([0, 1, 2, 3, 4, 5, 6, 7, 8, 9, 10], 2, 5)"
   ]
  },
  {
   "cell_type": "code",
   "execution_count": 86,
   "metadata": {},
   "outputs": [],
   "source": [
    "def sample_function_3nd(x, a, b, c):\n",
    "    # This object will return ax^2 + bx + c\n",
    "    output = [] # define empty list object\n",
    "    for i in x:\n",
    "        output.append(a*(i**2) + b*i + c)\n",
    "    return output"
   ]
  },
  {
   "cell_type": "code",
   "execution_count": 87,
   "metadata": {},
   "outputs": [
    {
     "data": {
      "text/plain": [
       "[2, 9, 20, 35, 54, 77, 104, 135, 170, 209, 252]"
      ]
     },
     "execution_count": 87,
     "metadata": {},
     "output_type": "execute_result"
    }
   ],
   "source": [
    "sample_function_3nd([0, 1, 2, 3, 4, 5, 6, 7, 8, 9, 10], 2, 5, 2)"
   ]
  },
  {
   "cell_type": "markdown",
   "metadata": {},
   "source": [
    "#### Some example of plotting the results of above functions\n",
    "- In order to compare the output results, we will taste some plotting function of matplotlib in jupyter notebook.\n",
    "- This example also will show how convenient the jupyter notebook is.\n",
    "    - The jupyter output field can be the backend of the output image as below\n",
    "- Don't need to understand all code below, let's just taste it little bit at this point."
   ]
  },
  {
   "cell_type": "code",
   "execution_count": 92,
   "metadata": {},
   "outputs": [],
   "source": [
    "x = range(20)"
   ]
  },
  {
   "cell_type": "code",
   "execution_count": 93,
   "metadata": {},
   "outputs": [],
   "source": [
    "y1 = sample_function_2nd(x, 2, 1)\n",
    "y2 = sample_function_3nd(x, 1, 1, 2)"
   ]
  },
  {
   "cell_type": "code",
   "execution_count": 90,
   "metadata": {},
   "outputs": [],
   "source": [
    "from matplotlib import pyplot as plt"
   ]
  },
  {
   "cell_type": "code",
   "execution_count": 91,
   "metadata": {},
   "outputs": [
    {
     "data": {
      "text/plain": [
       "[<matplotlib.lines.Line2D at 0x11d1c9050>,\n",
       " <matplotlib.lines.Line2D at 0x11d1c9150>]"
      ]
     },
     "execution_count": 91,
     "metadata": {},
     "output_type": "execute_result"
    },
    {
     "data": {
      "image/png": "[encoded data removed]",
      "text/plain": [
       "<Figure size 432x288 with 1 Axes>"
      ]
     },
     "metadata": {
      "needs_background": "light"
     },
     "output_type": "display_data"
    }
   ],
   "source": [
    "plt.plot(x, y1, 'r', x, y2, 'b')"
   ]
  },
  {
   "cell_type": "markdown",
   "metadata": {},
   "source": [
    "#### Quiz:\n",
    "- Create your own function to operate a 3rd order polinomial equation.\n",
    "- Feed integer ranged from 0 to 100 as input, and plot the result"
   ]
  },
  {
   "cell_type": "code",
   "execution_count": null,
   "metadata": {},
   "outputs": [],
   "source": []
  },
  {
   "cell_type": "markdown",
   "metadata": {},
   "source": [
    "#### Handlinh the pathes and files\n",
    "\n",
    "- One of Python's greatest strengths is its ability to handle strings.\n",
    "    - In this section, we will practice how to handle the path using `os.path` module as a string object\n",
    "    - This is really handy when you need to write scripts to handle multiple files."
   ]
  },
  {
   "cell_type": "code",
   "execution_count": null,
   "metadata": {},
   "outputs": [],
   "source": [
    "import os"
   ]
  },
  {
   "cell_type": "code",
   "execution_count": null,
   "metadata": {},
   "outputs": [],
   "source": [
    "os.listdir('.')"
   ]
  },
  {
   "cell_type": "code",
   "execution_count": null,
   "metadata": {},
   "outputs": [],
   "source": [
    "os.getcwd()"
   ]
  },
  {
   "cell_type": "code",
   "execution_count": null,
   "metadata": {},
   "outputs": [],
   "source": [
    "os.path.join(os.getcwd(), os.listdir('.')[0])"
   ]
  },
  {
   "cell_type": "code",
   "execution_count": null,
   "metadata": {},
   "outputs": [],
   "source": [
    "notebook_file = os.path.join(os.getcwd(), os.listdir('.')[0])\n",
    "os.path.isfile(notebook_file)"
   ]
  },
  {
   "cell_type": "code",
   "execution_count": null,
   "metadata": {},
   "outputs": [],
   "source": [
    "os.path.isdir(notebook_file)"
   ]
  },
  {
   "cell_type": "code",
   "execution_count": null,
   "metadata": {},
   "outputs": [],
   "source": [
    "os.path.split(notebook_file)"
   ]
  },
  {
   "cell_type": "code",
   "execution_count": null,
   "metadata": {},
   "outputs": [],
   "source": [
    "os.path.dirname(notebook_file)"
   ]
  },
  {
   "cell_type": "code",
   "execution_count": null,
   "metadata": {},
   "outputs": [],
   "source": [
    "os.path.basename(notebook_file)"
   ]
  },
  {
   "cell_type": "code",
   "execution_count": null,
   "metadata": {},
   "outputs": [],
   "source": [
    "filename = os.path.basename(notebook_file)"
   ]
  },
  {
   "cell_type": "code",
   "execution_count": null,
   "metadata": {},
   "outputs": [],
   "source": [
    "os.path.splitext(filename)"
   ]
  },
  {
   "cell_type": "code",
   "execution_count": null,
   "metadata": {},
   "outputs": [],
   "source": [
    "os.path.splitext(filename)[0]"
   ]
  },
  {
   "cell_type": "code",
   "execution_count": null,
   "metadata": {},
   "outputs": [],
   "source": [
    "os.path.splitext(filename)[1]"
   ]
  },
  {
   "cell_type": "markdown",
   "metadata": {},
   "source": [
    "#### What is Numpy array?\n",
    "- Numpy array provides the convenient way to apply numeric operation for the array data.\n",
    "- The code below demonstrates some differences between using standard data types such as list objects and some examples of how to use it.\n",
    "    - We will learn more about the numpy module later, so do not be too scared.\n",
    "    - For this section, let's just focus on how the `numpy.array` object can be used in terms of custom defined class object.\n",
    "    - Just make sure you can understand how to use the methods and call the properties of the `numpy.array` object.\n",
    "    "
   ]
  },
  {
   "cell_type": "code",
   "execution_count": null,
   "metadata": {},
   "outputs": [],
   "source": [
    "data = range(100)"
   ]
  },
  {
   "cell_type": "code",
   "execution_count": null,
   "metadata": {},
   "outputs": [],
   "source": [
    "print(data * 10)"
   ]
  },
  {
   "cell_type": "code",
   "execution_count": null,
   "metadata": {},
   "outputs": [],
   "source": [
    "import numpy as np\n",
    "array_data = np.array(data)\n",
    "array_data * 10"
   ]
  },
  {
   "cell_type": "code",
   "execution_count": null,
   "metadata": {},
   "outputs": [],
   "source": [
    "array_data / 10."
   ]
  },
  {
   "cell_type": "code",
   "execution_count": null,
   "metadata": {},
   "outputs": [],
   "source": [
    "array_data.shape"
   ]
  },
  {
   "cell_type": "code",
   "execution_count": null,
   "metadata": {},
   "outputs": [],
   "source": [
    "array_data.reshape(10, 10)"
   ]
  },
  {
   "cell_type": "code",
   "execution_count": null,
   "metadata": {},
   "outputs": [],
   "source": [
    "array_data.reshape(2, 5, 10)"
   ]
  },
  {
   "cell_type": "code",
   "execution_count": null,
   "metadata": {},
   "outputs": [],
   "source": [
    "array_data.reshape(2, 5, 10).shape"
   ]
  },
  {
   "cell_type": "code",
   "execution_count": null,
   "metadata": {},
   "outputs": [],
   "source": [
    "# Create 3D array with random integers ranged between 20-30, with shape 2, 5, 10\n",
    "np.random.randint(20, 30, (2, 5, 10))"
   ]
  },
  {
   "cell_type": "markdown",
   "metadata": {},
   "source": [
    "# Assignment:\n",
    "- Install the python platform to make all above module available.\n",
    "- Open this document using Jupyter notebook.\n",
    "- Follow the material and answer the quizzes"
   ]
  }
 ],
 "metadata": {
  "kernelspec": {
   "display_name": "Python 2",
   "language": "python",
   "name": "python2"
  },
  "language_info": {
   "codemirror_mode": {
    "name": "ipython",
    "version": 2
   },
   "file_extension": ".py",
   "mimetype": "text/x-python",
   "name": "python",
   "nbconvert_exporter": "python",
   "pygments_lexer": "ipython2",
   "version": "2.7.15"
  }
 },
 "nbformat": 4,
 "nbformat_minor": 2
}
